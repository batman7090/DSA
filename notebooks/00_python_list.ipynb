{
 "cells": [
  {
   "cell_type": "markdown",
   "id": "8bb060e7-c8ae-463f-8651-190c10e35674",
   "metadata": {},
   "source": [
    "# List in Python"
   ]
  },
  {
   "cell_type": "markdown",
   "id": "6653d918-1c50-4d69-a314-2e6aa10fedaf",
   "metadata": {},
   "source": [
    "## We are trying to mimic the in-built python class\n",
    "The class will embody the basic methods as listed below\n",
    "1. **len()**: will return the number of items resent in the list\n",
    "2. **append()**: will append the item to the list at the end\n",
    "3. **print()**: will print the list when inbuilt print() fucntion is used\n",
    "4. **indexing()**: will be used to access the item from the list at different indices\n",
    "5. **pop()**: will remove the item from the end of the list\n",
    "6. **clear()**: will clear the list \n",
    "7. **find()**: will search for the item in the list\n",
    "8. **insert()**: will insert the item at the specified index\n",
    "9. **delete()**: will delete the item from the list \n",
    "10. **remove()**: will remove particular item from the list"
   ]
  },
  {
   "cell_type": "code",
   "execution_count": 19,
   "id": "f2aa4c29-da77-4ff3-9f70-bc8cb73da707",
   "metadata": {},
   "outputs": [],
   "source": [
    "import ctypes\n",
    "\n",
    "# will name the list as CustomList\n",
    "\n",
    "class CustomList:\n",
    "    def __init__(self):\n",
    "        # size of the list\n",
    "        self.size = 1\n",
    "\n",
    "        # No. of items in the list\n",
    "        self.n = 0\n",
    "\n",
    "        self.A = self.__make_array(self.size)\n",
    "\n",
    "    def __len__(self):\n",
    "        # returns number of items in the list\n",
    "        return self.n\n",
    "\n",
    "    def append(self, item):\n",
    "        if self.n == self.size:\n",
    "            self.__resize(self.size*2)\n",
    "\n",
    "        self.A[self.n] = item\n",
    "        self.n += 1\n",
    "\n",
    "    def __resize(self, new_capacity):\n",
    "        B = self.__make_array(new_capacity)\n",
    "        self.size = new_capacity\n",
    "\n",
    "        for i in range(self.n):\n",
    "            B[i] = self.A[i]\n",
    "        self.A = B\n",
    "\n",
    "    def __make_array(self, capacity):\n",
    "         #creating the c type list in python using ctypes\n",
    "        return (capacity * ctypes.py_object)()"
   ]
  },
  {
   "cell_type": "code",
   "execution_count": 25,
   "id": "88159a6e-ca80-4e6e-b9e1-baf9a802eaba",
   "metadata": {},
   "outputs": [],
   "source": [
    "L = CustomList()"
   ]
  },
  {
   "cell_type": "code",
   "execution_count": 26,
   "id": "89946575-e596-43a6-a2bb-a32025bef268",
   "metadata": {},
   "outputs": [],
   "source": [
    "L.append(1)\n",
    "L.append(2)\n",
    "L.append(3)\n",
    "L.append(4)"
   ]
  },
  {
   "cell_type": "code",
   "execution_count": 27,
   "id": "e341df81-aa20-4028-ad32-f543b3545533",
   "metadata": {},
   "outputs": [
    {
     "data": {
      "text/plain": [
       "4"
      ]
     },
     "execution_count": 27,
     "metadata": {},
     "output_type": "execute_result"
    }
   ],
   "source": [
    "len(L)"
   ]
  },
  {
   "cell_type": "code",
   "execution_count": null,
   "id": "fbc4b87d-71bb-4c06-bc09-f12eb8b705a5",
   "metadata": {},
   "outputs": [],
   "source": []
  }
 ],
 "metadata": {
  "kernelspec": {
   "display_name": "Python 3 (ipykernel)",
   "language": "python",
   "name": "python3"
  },
  "language_info": {
   "codemirror_mode": {
    "name": "ipython",
    "version": 3
   },
   "file_extension": ".py",
   "mimetype": "text/x-python",
   "name": "python",
   "nbconvert_exporter": "python",
   "pygments_lexer": "ipython3",
   "version": "3.9.7"
  }
 },
 "nbformat": 4,
 "nbformat_minor": 5
}
